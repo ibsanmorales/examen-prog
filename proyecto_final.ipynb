{
 "metadata": {
  "language_info": {
   "codemirror_mode": {
    "name": "ipython",
    "version": 3
   },
   "file_extension": ".py",
   "mimetype": "text/x-python",
   "name": "python",
   "nbconvert_exporter": "python",
   "pygments_lexer": "ipython3",
   "version": "3.7.10"
  },
  "orig_nbformat": 2,
  "kernelspec": {
   "name": "python3710jvsc74a57bd032db637d704fe38a4041443764765f5e7081f473d6b0aba6fd40a55d1c7459a4",
   "display_name": "Python 3.7.10 64-bit ('base': conda)"
  }
 },
 "nbformat": 4,
 "nbformat_minor": 2,
 "cells": [
  {
   "cell_type": "code",
   "execution_count": 1,
   "metadata": {},
   "outputs": [],
   "source": [
    "#Importando librerias\n",
    "import matplotlib as mplt\n",
    "import pandas as pd\n",
    "import numpy as np\n",
    "#Cargando datos en frame\n",
    "newDataSet = pd.read_csv('./covid-data/200511COVID19MEXICO.csv')\n",
    "globaldir= './csv/'"
   ]
  },
  {
   "cell_type": "code",
   "execution_count": 7,
   "metadata": {},
   "outputs": [
    {
     "output_type": "execute_result",
     "data": {
      "text/plain": [
       "   FECHA_SINTOMAS  RESULTADO  DEFUNCION\n",
       "0      2020-03-11          2          0\n",
       "1      2020-03-12          2          0\n",
       "2      2020-03-13          1          0\n",
       "3      2020-03-16          2          0\n",
       "4      2020-03-17          4          0\n",
       "5      2020-03-18          1          0\n",
       "6      2020-03-19          2          0\n",
       "7      2020-03-20          2          1\n",
       "8      2020-03-22          2          1\n",
       "9      2020-03-23          2          0\n",
       "10     2020-03-24          3          1\n",
       "11     2020-03-25          2          0\n",
       "12     2020-03-26          4          0\n",
       "13     2020-03-27          5          2\n",
       "14     2020-03-28          5          2\n",
       "15     2020-03-30          1          1\n",
       "16     2020-03-31          4          1\n",
       "17     2020-04-01         12          2\n",
       "18     2020-04-02          2          0\n",
       "19     2020-04-03          5          1\n",
       "20     2020-04-04          9          1\n",
       "21     2020-04-05          5          0\n",
       "22     2020-04-06         18          1\n",
       "23     2020-04-07          6          0\n",
       "24     2020-04-08         10          1\n",
       "25     2020-04-09         11          2\n",
       "26     2020-04-10         12          2\n",
       "27     2020-04-11          7          2\n",
       "28     2020-04-12          6          0\n",
       "29     2020-04-13          8          2\n",
       "30     2020-04-14         10          2\n",
       "31     2020-04-15          3          0\n",
       "32     2020-04-16         14          2\n",
       "33     2020-04-17         13          0\n",
       "34     2020-04-18         15          1\n",
       "35     2020-04-19         12          0\n",
       "36     2020-04-20         22          1\n",
       "37     2020-04-21         12          0\n",
       "38     2020-04-22         17          0\n",
       "39     2020-04-23         22          1\n",
       "40     2020-04-24         22          0\n",
       "41     2020-04-25         20          0\n",
       "42     2020-04-26         19          0\n",
       "43     2020-04-27         22          1\n",
       "44     2020-04-28         21          0\n",
       "45     2020-04-29         20          0\n",
       "46     2020-04-30         28          1\n",
       "47     2020-05-01         26          1\n",
       "48     2020-05-02         23          0\n",
       "49     2020-05-03         18          0\n",
       "50     2020-05-04         16          0\n",
       "51     2020-05-05          6          0\n",
       "52     2020-05-06          4          0\n",
       "53     2020-05-07          1          0"
      ],
      "text/html": "<div>\n<style scoped>\n    .dataframe tbody tr th:only-of-type {\n        vertical-align: middle;\n    }\n\n    .dataframe tbody tr th {\n        vertical-align: top;\n    }\n\n    .dataframe thead th {\n        text-align: right;\n    }\n</style>\n<table border=\"1\" class=\"dataframe\">\n  <thead>\n    <tr style=\"text-align: right;\">\n      <th></th>\n      <th>FECHA_SINTOMAS</th>\n      <th>RESULTADO</th>\n      <th>DEFUNCION</th>\n    </tr>\n  </thead>\n  <tbody>\n    <tr>\n      <th>0</th>\n      <td>2020-03-11</td>\n      <td>2</td>\n      <td>0</td>\n    </tr>\n    <tr>\n      <th>1</th>\n      <td>2020-03-12</td>\n      <td>2</td>\n      <td>0</td>\n    </tr>\n    <tr>\n      <th>2</th>\n      <td>2020-03-13</td>\n      <td>1</td>\n      <td>0</td>\n    </tr>\n    <tr>\n      <th>3</th>\n      <td>2020-03-16</td>\n      <td>2</td>\n      <td>0</td>\n    </tr>\n    <tr>\n      <th>4</th>\n      <td>2020-03-17</td>\n      <td>4</td>\n      <td>0</td>\n    </tr>\n    <tr>\n      <th>5</th>\n      <td>2020-03-18</td>\n      <td>1</td>\n      <td>0</td>\n    </tr>\n    <tr>\n      <th>6</th>\n      <td>2020-03-19</td>\n      <td>2</td>\n      <td>0</td>\n    </tr>\n    <tr>\n      <th>7</th>\n      <td>2020-03-20</td>\n      <td>2</td>\n      <td>1</td>\n    </tr>\n    <tr>\n      <th>8</th>\n      <td>2020-03-22</td>\n      <td>2</td>\n      <td>1</td>\n    </tr>\n    <tr>\n      <th>9</th>\n      <td>2020-03-23</td>\n      <td>2</td>\n      <td>0</td>\n    </tr>\n    <tr>\n      <th>10</th>\n      <td>2020-03-24</td>\n      <td>3</td>\n      <td>1</td>\n    </tr>\n    <tr>\n      <th>11</th>\n      <td>2020-03-25</td>\n      <td>2</td>\n      <td>0</td>\n    </tr>\n    <tr>\n      <th>12</th>\n      <td>2020-03-26</td>\n      <td>4</td>\n      <td>0</td>\n    </tr>\n    <tr>\n      <th>13</th>\n      <td>2020-03-27</td>\n      <td>5</td>\n      <td>2</td>\n    </tr>\n    <tr>\n      <th>14</th>\n      <td>2020-03-28</td>\n      <td>5</td>\n      <td>2</td>\n    </tr>\n    <tr>\n      <th>15</th>\n      <td>2020-03-30</td>\n      <td>1</td>\n      <td>1</td>\n    </tr>\n    <tr>\n      <th>16</th>\n      <td>2020-03-31</td>\n      <td>4</td>\n      <td>1</td>\n    </tr>\n    <tr>\n      <th>17</th>\n      <td>2020-04-01</td>\n      <td>12</td>\n      <td>2</td>\n    </tr>\n    <tr>\n      <th>18</th>\n      <td>2020-04-02</td>\n      <td>2</td>\n      <td>0</td>\n    </tr>\n    <tr>\n      <th>19</th>\n      <td>2020-04-03</td>\n      <td>5</td>\n      <td>1</td>\n    </tr>\n    <tr>\n      <th>20</th>\n      <td>2020-04-04</td>\n      <td>9</td>\n      <td>1</td>\n    </tr>\n    <tr>\n      <th>21</th>\n      <td>2020-04-05</td>\n      <td>5</td>\n      <td>0</td>\n    </tr>\n    <tr>\n      <th>22</th>\n      <td>2020-04-06</td>\n      <td>18</td>\n      <td>1</td>\n    </tr>\n    <tr>\n      <th>23</th>\n      <td>2020-04-07</td>\n      <td>6</td>\n      <td>0</td>\n    </tr>\n    <tr>\n      <th>24</th>\n      <td>2020-04-08</td>\n      <td>10</td>\n      <td>1</td>\n    </tr>\n    <tr>\n      <th>25</th>\n      <td>2020-04-09</td>\n      <td>11</td>\n      <td>2</td>\n    </tr>\n    <tr>\n      <th>26</th>\n      <td>2020-04-10</td>\n      <td>12</td>\n      <td>2</td>\n    </tr>\n    <tr>\n      <th>27</th>\n      <td>2020-04-11</td>\n      <td>7</td>\n      <td>2</td>\n    </tr>\n    <tr>\n      <th>28</th>\n      <td>2020-04-12</td>\n      <td>6</td>\n      <td>0</td>\n    </tr>\n    <tr>\n      <th>29</th>\n      <td>2020-04-13</td>\n      <td>8</td>\n      <td>2</td>\n    </tr>\n    <tr>\n      <th>30</th>\n      <td>2020-04-14</td>\n      <td>10</td>\n      <td>2</td>\n    </tr>\n    <tr>\n      <th>31</th>\n      <td>2020-04-15</td>\n      <td>3</td>\n      <td>0</td>\n    </tr>\n    <tr>\n      <th>32</th>\n      <td>2020-04-16</td>\n      <td>14</td>\n      <td>2</td>\n    </tr>\n    <tr>\n      <th>33</th>\n      <td>2020-04-17</td>\n      <td>13</td>\n      <td>0</td>\n    </tr>\n    <tr>\n      <th>34</th>\n      <td>2020-04-18</td>\n      <td>15</td>\n      <td>1</td>\n    </tr>\n    <tr>\n      <th>35</th>\n      <td>2020-04-19</td>\n      <td>12</td>\n      <td>0</td>\n    </tr>\n    <tr>\n      <th>36</th>\n      <td>2020-04-20</td>\n      <td>22</td>\n      <td>1</td>\n    </tr>\n    <tr>\n      <th>37</th>\n      <td>2020-04-21</td>\n      <td>12</td>\n      <td>0</td>\n    </tr>\n    <tr>\n      <th>38</th>\n      <td>2020-04-22</td>\n      <td>17</td>\n      <td>0</td>\n    </tr>\n    <tr>\n      <th>39</th>\n      <td>2020-04-23</td>\n      <td>22</td>\n      <td>1</td>\n    </tr>\n    <tr>\n      <th>40</th>\n      <td>2020-04-24</td>\n      <td>22</td>\n      <td>0</td>\n    </tr>\n    <tr>\n      <th>41</th>\n      <td>2020-04-25</td>\n      <td>20</td>\n      <td>0</td>\n    </tr>\n    <tr>\n      <th>42</th>\n      <td>2020-04-26</td>\n      <td>19</td>\n      <td>0</td>\n    </tr>\n    <tr>\n      <th>43</th>\n      <td>2020-04-27</td>\n      <td>22</td>\n      <td>1</td>\n    </tr>\n    <tr>\n      <th>44</th>\n      <td>2020-04-28</td>\n      <td>21</td>\n      <td>0</td>\n    </tr>\n    <tr>\n      <th>45</th>\n      <td>2020-04-29</td>\n      <td>20</td>\n      <td>0</td>\n    </tr>\n    <tr>\n      <th>46</th>\n      <td>2020-04-30</td>\n      <td>28</td>\n      <td>1</td>\n    </tr>\n    <tr>\n      <th>47</th>\n      <td>2020-05-01</td>\n      <td>26</td>\n      <td>1</td>\n    </tr>\n    <tr>\n      <th>48</th>\n      <td>2020-05-02</td>\n      <td>23</td>\n      <td>0</td>\n    </tr>\n    <tr>\n      <th>49</th>\n      <td>2020-05-03</td>\n      <td>18</td>\n      <td>0</td>\n    </tr>\n    <tr>\n      <th>50</th>\n      <td>2020-05-04</td>\n      <td>16</td>\n      <td>0</td>\n    </tr>\n    <tr>\n      <th>51</th>\n      <td>2020-05-05</td>\n      <td>6</td>\n      <td>0</td>\n    </tr>\n    <tr>\n      <th>52</th>\n      <td>2020-05-06</td>\n      <td>4</td>\n      <td>0</td>\n    </tr>\n    <tr>\n      <th>53</th>\n      <td>2020-05-07</td>\n      <td>1</td>\n      <td>0</td>\n    </tr>\n  </tbody>\n</table>\n</div>"
     },
     "metadata": {},
     "execution_count": 7
    }
   ],
   "source": [
    "#PRIMERA PARTE\n",
    "#Variables tabla1 : Sonora 26, Positivo 1,  \n",
    "entidad = 26;\n",
    "resultadoCovid = 1\n",
    "nameFileSonoraConf = globaldir+'tabla1.csv'\n",
    "#Filtrado de datos\n",
    "confirmadosSonora =  pd.DataFrame(newDataSet[(newDataSet['ENTIDAD_RES'] == entidad) & (newDataSet['RESULTADO'] == resultadoCovid)])\n",
    "#Creacion de nuevo campo Defuncion\n",
    "confirmadosSonora['DEFUNCION'] = np.where(confirmadosSonora['FECHA_DEF']=='9999-99-99', 0, 1) \n",
    "#seleccionando columnas [ENTIDAD_RES,FECHA_SINTOMAS,DEFUNCION]\n",
    "sonoraConfirmados = pd.DataFrame(confirmadosSonora[['FECHA_SINTOMAS','RESULTADO','DEFUNCION']])\n",
    "#Agrupor por fecha Sintoma\n",
    "sonoraAgrupados = sonoraConfirmados.groupby('FECHA_SINTOMAS').sum('DEFUNCION','RESULTADO').reset_index()\n",
    "#Ordenar por fecha de sintomas\n",
    "ordenCasosMexico = sonoraAgrupados.sort_values('FECHA_SINTOMAS')\n",
    "#Cambio de nombre columnas\n",
    "hospSonChNLPuAgrupados.columns = ['Fecha Sintomas','Casos','Defunciones']\n",
    "\n",
    "ordenCasosMexico\n",
    "#Grabar tabla1.csv\n",
    "#Quitar comentario para generar archivo -----------------\n",
    "#ordenCasosMexico.to_csv(nameFileSonoraConf,index=False)\n",
    "#--------------------------------------------------------"
   ]
  },
  {
   "cell_type": "code",
   "execution_count": 54,
   "metadata": {},
   "outputs": [
    {
     "output_type": "execute_result",
     "data": {
      "text/plain": [
       "      Estados  Casos\n",
       "0   Chihuahua   1013\n",
       "1  Nuevo Leon   1065\n",
       "2      Puebla   1295\n",
       "3      Sonora    604"
      ],
      "text/html": "<div>\n<style scoped>\n    .dataframe tbody tr th:only-of-type {\n        vertical-align: middle;\n    }\n\n    .dataframe tbody tr th {\n        vertical-align: top;\n    }\n\n    .dataframe thead th {\n        text-align: right;\n    }\n</style>\n<table border=\"1\" class=\"dataframe\">\n  <thead>\n    <tr style=\"text-align: right;\">\n      <th></th>\n      <th>Estados</th>\n      <th>Casos</th>\n    </tr>\n  </thead>\n  <tbody>\n    <tr>\n      <th>0</th>\n      <td>Chihuahua</td>\n      <td>1013</td>\n    </tr>\n    <tr>\n      <th>1</th>\n      <td>Nuevo Leon</td>\n      <td>1065</td>\n    </tr>\n    <tr>\n      <th>2</th>\n      <td>Puebla</td>\n      <td>1295</td>\n    </tr>\n    <tr>\n      <th>3</th>\n      <td>Sonora</td>\n      <td>604</td>\n    </tr>\n  </tbody>\n</table>\n</div>"
     },
     "metadata": {},
     "execution_count": 54
    }
   ],
   "source": [
    "#VARIABLES \n",
    "nameFileSonChPbNlConf = globaldir+'tabla2.csv'\n",
    "entidadesHosp = [26,19,8,21]\n",
    "tipoPaciente = 2\n",
    "#----SEGUNDA PARTE FECHA_INGRESO----\n",
    "#Filtro por entidades Sonora, Puebla, Nuevo leon, Chihuahua\n",
    "hospSonChNLPu = pd.DataFrame(newDataSet[ (\n",
    "    (newDataSet['ENTIDAD_RES'] == entidadesHosp[0]) |\n",
    "    (newDataSet['ENTIDAD_RES'] == entidadesHosp[1]) |\n",
    "    (newDataSet['ENTIDAD_RES'] == entidadesHosp[2]) |\n",
    "    (newDataSet['ENTIDAD_RES'] == entidadesHosp[3]) ) & \n",
    "    (\n",
    "    (newDataSet['FECHA_INGRESO'] != '9999-99-99') & (newDataSet['FECHA_INGRESO'] != '') \n",
    "    ) &\n",
    "    (newDataSet['TIPO_PACIENTE'] == tipoPaciente)\n",
    "    ])\n",
    "#Obtener solo columnas entidades y tipo\n",
    "hospEntidades = pd.DataFrame(hospSonChNLPu[['ENTIDAD_RES','TIPO_PACIENTE']])\n",
    "#Agrupar y contar registros por entidad\n",
    "hospSonChNLPuAgrupados = hospEntidades.groupby('ENTIDAD_RES')['TIPO_PACIENTE'].count().reset_index()\n",
    "#Cambio de nombre de entidades \n",
    "hospSonChNLPuAgrupados[\"ENTIDAD_RES\"].replace({26: \"Sonora\", 21: \"Puebla\",19:\"Nuevo Leon\", 8:\"Chihuahua\"}, inplace=True)\n",
    "#Cambio de nombre de columnas\n",
    "hospSonChNLPuAgrupados.columns = ['Estados','Hospitalizados']\n",
    "hospSonChNLPuAgrupados\n",
    "#Grabar tabla2.csv\n",
    "#Quitar comentario para generar archivo -----------------\n",
    "#hospSonChNLPuAgrupados.to_csv(nameFileSonChPbNlConf,index=False)\n",
    "#--------------------------------------------------------"
   ]
  },
  {
   "cell_type": "code",
   "execution_count": null,
   "metadata": {},
   "outputs": [],
   "source": []
  }
 ]
}